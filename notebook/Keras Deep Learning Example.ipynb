{
 "cells": [
  {
   "cell_type": "code",
   "execution_count": 1,
   "metadata": {},
   "outputs": [
    {
     "name": "stderr",
     "output_type": "stream",
     "text": [
      "Using TensorFlow backend.\n"
     ]
    }
   ],
   "source": [
    "from keras.models import Sequential\n",
    "import keras\n",
    "import numpy as np\n",
    "\n",
    "model = Sequential()"
   ]
  },
  {
   "cell_type": "code",
   "execution_count": 2,
   "metadata": {},
   "outputs": [],
   "source": [
    "def load_data(pickle_file):\n",
    "    import pickle\n",
    "\n",
    "    with open(pickle_file, 'rb') as f:\n",
    "        return pickle.load(f)\n",
    "\n",
    "data = load_data('partial_notMNIST.pickle')\n",
    "train_dataset = data['train_dataset']\n",
    "train_labels = data['train_labels']\n",
    "test_dataset = data['test_dataset']\n",
    "test_labels = data['test_labels']\n",
    "valid_dataset = data['valid_dataset']\n",
    "valid_labels = data['valid_labels']"
   ]
  },
  {
   "cell_type": "code",
   "execution_count": 3,
   "metadata": {
    "collapsed": true
   },
   "outputs": [],
   "source": [
    "image_size = 28\n",
    "num_labels = 10\n",
    "\n",
    "def to_one_hot(labels):\n",
    "    return (np.arange(num_labels) == labels[:,None]).astype(np.float32)\n",
    "\n",
    "def from_one_hot(labels):\n",
    "    return np.argmax(labels,1)\n",
    "\n",
    "def reformat(dataset, labels):\n",
    "  dataset = dataset.reshape((-1, image_size * image_size)).astype(np.float32)\n",
    "  labels = to_one_hot(labels)\n",
    "  return dataset, labels\n",
    "\n"
   ]
  },
  {
   "cell_type": "code",
   "execution_count": 4,
   "metadata": {
    "collapsed": true
   },
   "outputs": [],
   "source": [
    "from keras.layers import Dense, Activation\n",
    "\n",
    "model.add(Dense(units=64, input_dim=image_size*image_size))\n",
    "model.add(Activation('relu'))\n",
    "model.add(Dense(10))\n",
    "model.add(Activation('softmax'))"
   ]
  },
  {
   "cell_type": "code",
   "execution_count": 5,
   "metadata": {
    "collapsed": true
   },
   "outputs": [],
   "source": [
    "model.compile(loss='categorical_crossentropy',\n",
    "              optimizer=keras.optimizers.SGD(lr=0.01),\n",
    "              metrics=['accuracy'])"
   ]
  },
  {
   "cell_type": "code",
   "execution_count": 6,
   "metadata": {},
   "outputs": [
    {
     "name": "stdout",
     "output_type": "stream",
     "text": [
      "Epoch 1/50\n",
      "10000/10000 [==============================] - 1s 72us/step - loss: 1.3120 - acc: 0.6364\n",
      "Epoch 2/50\n",
      "10000/10000 [==============================] - 1s 70us/step - loss: 0.7778 - acc: 0.7913\n",
      "Epoch 3/50\n",
      "10000/10000 [==============================] - 1s 61us/step - loss: 0.6851 - acc: 0.8093\n",
      "Epoch 4/50\n",
      "10000/10000 [==============================] - 1s 59us/step - loss: 0.6419 - acc: 0.8208\n",
      "Epoch 5/50\n",
      "10000/10000 [==============================] - 1s 66us/step - loss: 0.6139 - acc: 0.8270\n",
      "Epoch 6/50\n",
      "10000/10000 [==============================] - 1s 75us/step - loss: 0.5932 - acc: 0.8306\n",
      "Epoch 7/50\n",
      "10000/10000 [==============================] - 1s 62us/step - loss: 0.5760 - acc: 0.8368\n",
      "Epoch 8/50\n",
      "10000/10000 [==============================] - 1s 63us/step - loss: 0.5608 - acc: 0.8404\n",
      "Epoch 9/50\n",
      "10000/10000 [==============================] - 1s 59us/step - loss: 0.5483 - acc: 0.8434\n",
      "Epoch 10/50\n",
      "10000/10000 [==============================] - 1s 79us/step - loss: 0.5364 - acc: 0.8455\n",
      "Epoch 11/50\n",
      "10000/10000 [==============================] - 1s 93us/step - loss: 0.5259 - acc: 0.8477\n",
      "Epoch 12/50\n",
      "10000/10000 [==============================] - 1s 79us/step - loss: 0.5159 - acc: 0.8493\n",
      "Epoch 13/50\n",
      "10000/10000 [==============================] - 1s 93us/step - loss: 0.5066 - acc: 0.8518\n",
      "Epoch 14/50\n",
      "10000/10000 [==============================] - 1s 72us/step - loss: 0.4980 - acc: 0.8553\n",
      "Epoch 15/50\n",
      "10000/10000 [==============================] - 1s 84us/step - loss: 0.4892 - acc: 0.8566\n",
      "Epoch 16/50\n",
      "10000/10000 [==============================] - 1s 76us/step - loss: 0.4810 - acc: 0.8578\n",
      "Epoch 17/50\n",
      "10000/10000 [==============================] - 1s 63us/step - loss: 0.4737 - acc: 0.8605\n",
      "Epoch 18/50\n",
      "10000/10000 [==============================] - 1s 60us/step - loss: 0.4659 - acc: 0.8638\n",
      "Epoch 19/50\n",
      "10000/10000 [==============================] - 1s 74us/step - loss: 0.4593 - acc: 0.8646\n",
      "Epoch 20/50\n",
      "10000/10000 [==============================] - 1s 77us/step - loss: 0.4524 - acc: 0.8665\n",
      "Epoch 21/50\n",
      "10000/10000 [==============================] - 1s 81us/step - loss: 0.4462 - acc: 0.8687\n",
      "Epoch 22/50\n",
      "10000/10000 [==============================] - 1s 84us/step - loss: 0.4397 - acc: 0.8691\n",
      "Epoch 23/50\n",
      "10000/10000 [==============================] - 1s 66us/step - loss: 0.4336 - acc: 0.8724\n",
      "Epoch 24/50\n",
      "10000/10000 [==============================] - 1s 61us/step - loss: 0.4274 - acc: 0.8730\n",
      "Epoch 25/50\n",
      "10000/10000 [==============================] - 1s 131us/step - loss: 0.4217 - acc: 0.8771\n",
      "Epoch 26/50\n",
      "10000/10000 [==============================] - 1s 71us/step - loss: 0.4161 - acc: 0.8787\n",
      "Epoch 27/50\n",
      "10000/10000 [==============================] - 1s 68us/step - loss: 0.4103 - acc: 0.8790\n",
      "Epoch 28/50\n",
      "10000/10000 [==============================] - 1s 55us/step - loss: 0.4046 - acc: 0.8823\n",
      "Epoch 29/50\n",
      "10000/10000 [==============================] - 1s 57us/step - loss: 0.3994 - acc: 0.8831\n",
      "Epoch 30/50\n",
      "10000/10000 [==============================] - 1s 56us/step - loss: 0.3941 - acc: 0.8846\n",
      "Epoch 31/50\n",
      "10000/10000 [==============================] - 1s 57us/step - loss: 0.3890 - acc: 0.8877\n",
      "Epoch 32/50\n",
      "10000/10000 [==============================] - 1s 55us/step - loss: 0.3840 - acc: 0.8879\n",
      "Epoch 33/50\n",
      "10000/10000 [==============================] - 1s 56us/step - loss: 0.3790 - acc: 0.8895\n",
      "Epoch 34/50\n",
      "10000/10000 [==============================] - 1s 55us/step - loss: 0.3739 - acc: 0.8921\n",
      "Epoch 35/50\n",
      "10000/10000 [==============================] - 1s 64us/step - loss: 0.3689 - acc: 0.8941\n",
      "Epoch 36/50\n",
      "10000/10000 [==============================] - 1s 65us/step - loss: 0.3646 - acc: 0.8957\n",
      "Epoch 37/50\n",
      "10000/10000 [==============================] - 1s 61us/step - loss: 0.3595 - acc: 0.8974\n",
      "Epoch 38/50\n",
      "10000/10000 [==============================] - 1s 61us/step - loss: 0.3551 - acc: 0.8987\n",
      "Epoch 39/50\n",
      "10000/10000 [==============================] - 1s 70us/step - loss: 0.3502 - acc: 0.8996\n",
      "Epoch 40/50\n",
      "10000/10000 [==============================] - 1s 101us/step - loss: 0.3458 - acc: 0.9002\n",
      "Epoch 41/50\n",
      "10000/10000 [==============================] - 1s 70us/step - loss: 0.3410 - acc: 0.9023\n",
      "Epoch 42/50\n",
      "10000/10000 [==============================] - 1s 103us/step - loss: 0.3364 - acc: 0.9039\n",
      "Epoch 43/50\n",
      "10000/10000 [==============================] - 2s 217us/step - loss: 0.3327 - acc: 0.9056\n",
      "Epoch 44/50\n",
      "10000/10000 [==============================] - 1s 89us/step - loss: 0.3281 - acc: 0.9061\n",
      "Epoch 45/50\n",
      "10000/10000 [==============================] - 1s 63us/step - loss: 0.3234 - acc: 0.9100\n",
      "Epoch 46/50\n",
      "10000/10000 [==============================] - 1s 63us/step - loss: 0.3193 - acc: 0.9109\n",
      "Epoch 47/50\n",
      "10000/10000 [==============================] - 1s 63us/step - loss: 0.3149 - acc: 0.9116\n",
      "Epoch 48/50\n",
      "10000/10000 [==============================] - 1s 67us/step - loss: 0.3111 - acc: 0.9122\n",
      "Epoch 49/50\n",
      "10000/10000 [==============================] - 1s 82us/step - loss: 0.3071 - acc: 0.9147\n",
      "Epoch 50/50\n",
      "10000/10000 [==============================] - 1s 82us/step - loss: 0.3027 - acc: 0.9158\n"
     ]
    },
    {
     "data": {
      "text/plain": [
       "<keras.callbacks.History at 0x7fd2948c5438>"
      ]
     },
     "execution_count": 6,
     "metadata": {},
     "output_type": "execute_result"
    }
   ],
   "source": [
    "t_data, t_labels = reformat(train_dataset, train_labels)\n",
    "\n",
    "model.fit(t_data, t_labels, epochs=50, batch_size=32)"
   ]
  },
  {
   "cell_type": "code",
   "execution_count": 7,
   "metadata": {},
   "outputs": [
    {
     "name": "stdout",
     "output_type": "stream",
     "text": [
      "1000/1000 [==============================] - 0s 55us/step\n"
     ]
    },
    {
     "data": {
      "text/plain": [
       "[0.31670985913276672, 0.88799999856948852]"
      ]
     },
     "execution_count": 7,
     "metadata": {},
     "output_type": "execute_result"
    }
   ],
   "source": [
    "te_data, te_labels = reformat(test_dataset, test_labels)\n",
    "\n",
    "\n",
    "model.evaluate(te_data, te_labels, batch_size=128)\n"
   ]
  }
 ],
 "metadata": {
  "kernelspec": {
   "display_name": "Python 3",
   "language": "python",
   "name": "python3"
  },
  "language_info": {
   "codemirror_mode": {
    "name": "ipython",
    "version": 3
   },
   "file_extension": ".py",
   "mimetype": "text/x-python",
   "name": "python",
   "nbconvert_exporter": "python",
   "pygments_lexer": "ipython3",
   "version": "3.5.2"
  }
 },
 "nbformat": 4,
 "nbformat_minor": 2
}
