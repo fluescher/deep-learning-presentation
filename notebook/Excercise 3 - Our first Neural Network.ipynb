{
 "cells": [
  {
   "cell_type": "markdown",
   "metadata": {},
   "source": [
    "# Excercise 3"
   ]
  },
  {
   "cell_type": "markdown",
   "metadata": {},
   "source": [
    "## Load the data"
   ]
  },
  {
   "cell_type": "code",
   "execution_count": 1,
   "metadata": {
    "collapsed": true
   },
   "outputs": [],
   "source": [
    "def load_data(pickle_file):\n",
    "    import pickle\n",
    "\n",
    "    with open(pickle_file, 'rb') as f:\n",
    "        return pickle.load(f)\n",
    "\n",
    "data = load_data('partial_notMNIST.pickle')\n",
    "train_dataset = data['train_dataset']\n",
    "train_labels = data['train_labels']\n",
    "test_dataset = data['test_dataset']\n",
    "test_labels = data['test_labels']\n",
    "valid_dataset = data['valid_dataset']\n",
    "valid_labels = data['valid_labels']"
   ]
  },
  {
   "cell_type": "markdown",
   "metadata": {},
   "source": [
    "## Plot the images"
   ]
  },
  {
   "cell_type": "code",
   "execution_count": 2,
   "metadata": {},
   "outputs": [
    {
     "data": {
      "image/png": "[encoded data removed]",
      "text/plain": [
       "<matplotlib.figure.Figure at 0x7f813c9abfd0>"
      ]
     },
     "metadata": {},
     "output_type": "display_data"
    }
   ],
   "source": [
    "%matplotlib inline\n",
    "import matplotlib.pyplot as plt\n",
    "import random\n",
    "\n",
    "def label_to_char(one_hot):\n",
    "    return \"ABCDEFGHIJ\"[one_hot]\n",
    "\n",
    "n = 16\n",
    "rows = 2\n",
    "for i in range(1,1+n):\n",
    "    image_to_show = random.randint(0,len(train_dataset))\n",
    "    plt.subplot(rows,n/rows,i)\n",
    "    plt.imshow(train_dataset[image_to_show], cmap=\"gray\")\n",
    "    plt.title(label_to_char(train_labels[image_to_show]))\n"
   ]
  },
  {
   "cell_type": "markdown",
   "metadata": {},
   "source": [
    "## Helper Functions"
   ]
  },
  {
   "cell_type": "code",
   "execution_count": 3,
   "metadata": {
    "collapsed": true
   },
   "outputs": [],
   "source": [
    "image_size = 28\n",
    "num_labels = 10\n",
    "\n",
    "# Convert 2 to [0, 0, 1, 0, 0, 0, 0, 0, 0, 0]\n",
    "def to_one_hot(labels):\n",
    "    return (np.arange(num_labels) == labels[:,None]).astype(np.float32)\n",
    "\n",
    "def from_one_hot(labels):\n",
    "    return np.argmax(labels,1)\n",
    "\n",
    "def reformat(dataset, labels):\n",
    "  dataset = dataset.reshape((-1, image_size * image_size)).astype(np.float32)\n",
    "  labels = to_one_hot(labels)\n",
    "  return dataset, labels\n",
    "\n",
    "def print_row(cols, max_length=20):\n",
    "    col_width = max_length\n",
    "    print(\"\".join(str(word).ljust(col_width) for word in cols))"
   ]
  },
  {
   "cell_type": "markdown",
   "metadata": {},
   "source": [
    "## Simple classification pipeline"
   ]
  },
  {
   "cell_type": "code",
   "execution_count": 4,
   "metadata": {
    "collapsed": true
   },
   "outputs": [],
   "source": [
    "import numpy as np\n",
    "\n",
    "def accuracy(predictions, labels):\n",
    "    return (np.sum(np.array(predictions) == np.array(labels))\n",
    "          / len(predictions))\n",
    "\n",
    "def evaluate_classifier(classifier):  \n",
    "    # Train\n",
    "    classifier.fit(train_dataset, train_labels)\n",
    "    \n",
    "    # Evaluate\n",
    "    predictions = classifier.predict(test_dataset)\n",
    "\n",
    "    print(\"Test accuracy: %s\" % accuracy(predictions, test_labels))\n",
    "  \n",
    "\n"
   ]
  },
  {
   "cell_type": "markdown",
   "metadata": {},
   "source": [
    "## Hands-On: Our first Neural Network\n",
    "\n",
    "Now it's time to create your first Neural Network. \n",
    "\n",
    "**Hints**:\n",
    "\n",
    "You can use the following functions:\n",
    "\n",
    "    tf.matmul\n",
    "    tf.nn.softmax\n",
    "    tf.nn.softmax_cross_entropy_with_logits\n"
   ]
  },
  {
   "cell_type": "code",
   "execution_count": 25,
   "metadata": {
    "collapsed": true
   },
   "outputs": [],
   "source": [
    "import tensorflow as tf\n",
    "\n",
    "class TensorNeuralNetwork:\n",
    "    def __init__(self):\n",
    "        self.num_steps = 100\n",
    "        self.num_relu = 1024\n",
    "        self.image_size = 28\n",
    "    \n",
    "    def fit(self, train_data, train_labels):\n",
    "        tf_train_dataset = tf.placeholder(tf.float32,\n",
    "                                        shape=(len(train_data), self.image_size * self.image_size))\n",
    "        tf_train_labels = tf.placeholder(tf.float32, shape=(len(train_data), num_labels))\n",
    "\n",
    "        # Variables.\n",
    "        weights_1 = tf.Variable(tf.truncated_normal([self.image_size * self.image_size, self.num_relu]))\n",
    "        biases_1 = tf.Variable(tf.zeros([self.num_relu]))\n",
    "\n",
    "        hidden_input = tf.matmul(tf_train_dataset, weights_1) + biases_1\n",
    "        hidden_output = tf.nn.relu(hidden_input)\n",
    "\n",
    "        weights_2 = tf.Variable(tf.truncated_normal([self.num_relu, num_labels]))\n",
    "        biases_2 = tf.Variable(tf.zeros([num_labels]))\n",
    "\n",
    "        # Training computation.\n",
    "        logits = tf.matmul(hidden_output, weights_2) + biases_2\n",
    "\n",
    "        # Loss to optimize\n",
    "        loss = tf.reduce_mean(tf.nn.softmax_cross_entropy_with_logits(logits=logits, labels=tf_train_labels))\n",
    "\n",
    "        # Optimizer.\n",
    "        optimizer = tf.train.GradientDescentOptimizer(0.5).minimize(loss)\n",
    "\n",
    "        # Predictions for the training, validation, and test data.\n",
    "        train_prediction = tf.nn.softmax(logits)\n",
    "        \n",
    "        dataset, labels = reformat(train_dataset, train_labels)\n",
    "\n",
    "        with tf.Session() as session:\n",
    "          tf.global_variables_initializer().run()\n",
    "          print_row(['Step', 'Loss', 'Acc-Train'])\n",
    "          for step in range(self.num_steps):\n",
    "            feed_dict = {tf_train_dataset : dataset, tf_train_labels : labels}\n",
    "\n",
    "            _, l, predictions, w1, b1, w2, b2 = session.run(\n",
    "                [\n",
    "                    optimizer, loss, train_prediction, \n",
    "                    weights_1, biases_1, weights_2, biases_2\n",
    "                ], \n",
    "                feed_dict=feed_dict\n",
    "            )\n",
    "\n",
    "            if (step % 10 == 0):\n",
    "              test_acc = accuracy(from_one_hot(predictions), from_one_hot(labels))\n",
    "\n",
    "              print_row([step, l, test_acc])\n",
    "        \n",
    "        self.weights_1 = w1\n",
    "        self.biases_1 = b1\n",
    "        self.weights_2 = w2\n",
    "        self.biases_2 = b2\n",
    "        \n",
    "    def predict(self, data):\n",
    "        data,_ = reformat(data, np.arange(10))\n",
    "        \n",
    "        weights_1 = tf.constant(self.weights_1)\n",
    "        biases_1 = tf.constant(self.biases_1)\n",
    "        weights_2 = tf.constant(self.weights_2)\n",
    "        biases_2 = tf.constant(self.biases_2)\n",
    "        tfdata = tf.constant(data)\n",
    "\n",
    "        hidden_input = tf.matmul(tfdata, weights_1) + biases_1\n",
    "        hidden_output = tf.nn.relu(hidden_input)\n",
    "\n",
    "        logits = tf.matmul(hidden_output, weights_2) + biases_2\n",
    "\n",
    "        prediction = tf.nn.softmax(logits)\n",
    "            \n",
    "        with tf.Session() as session:\n",
    "            tf.global_variables_initializer().run()\n",
    "            predictions, _ = session.run([prediction, logits])\n",
    "            return from_one_hot(predictions)\n"
   ]
  },
  {
   "cell_type": "code",
   "execution_count": 26,
   "metadata": {},
   "outputs": [
    {
     "name": "stdout",
     "output_type": "stream",
     "text": [
      "Step                Loss                Acc-Train           \n",
      "0                   322.157             0.0867              \n",
      "10                  58.1998             0.805               \n",
      "20                  29.1727             0.8251              \n",
      "30                  25.757              0.8366              \n",
      "40                  15.4144             0.8458              \n",
      "50                  36.2802             0.8123              \n",
      "60                  9.24391             0.8698              \n",
      "70                  7.24127             0.8778              \n",
      "80                  4.86948             0.8969              \n",
      "90                  33.5276             0.8046              \n",
      "Test accuracy: 0.85\n"
     ]
    }
   ],
   "source": [
    "evaluate_classifier(TensorNeuralNetwork())"
   ]
  }
 ],
 "metadata": {
  "kernelspec": {
   "display_name": "Python 3",
   "language": "python",
   "name": "python3"
  },
  "language_info": {
   "codemirror_mode": {
    "name": "ipython",
    "version": 3
   },
   "file_extension": ".py",
   "mimetype": "text/x-python",
   "name": "python",
   "nbconvert_exporter": "python",
   "pygments_lexer": "ipython3",
   "version": "3.5.2"
  }
 },
 "nbformat": 4,
 "nbformat_minor": 2
}
