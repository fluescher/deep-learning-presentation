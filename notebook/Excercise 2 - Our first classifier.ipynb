{
 "cells": [
  {
   "cell_type": "markdown",
   "metadata": {},
   "source": [
    "# Excercise 2"
   ]
  },
  {
   "cell_type": "markdown",
   "metadata": {},
   "source": [
    "## Load the data"
   ]
  },
  {
   "cell_type": "code",
   "execution_count": 1,
   "metadata": {
    "collapsed": true
   },
   "outputs": [],
   "source": [
    "def load_data(pickle_file):\n",
    "    import pickle\n",
    "\n",
    "    with open(pickle_file, 'rb') as f:\n",
    "        return pickle.load(f)\n",
    "\n",
    "data = load_data('partial_notMNIST.pickle')\n",
    "train_dataset = data['train_dataset']\n",
    "train_labels = data['train_labels']\n",
    "test_dataset = data['test_dataset']\n",
    "test_labels = data['test_labels']\n",
    "valid_dataset = data['valid_dataset']\n",
    "valid_labels = data['valid_labels']"
   ]
  },
  {
   "cell_type": "markdown",
   "metadata": {},
   "source": [
    "## Plot the images"
   ]
  },
  {
   "cell_type": "code",
   "execution_count": 2,
   "metadata": {},
   "outputs": [
    {
     "data": {
      "image/png": "[encoded data removed]",
      "text/plain": [
       "<matplotlib.figure.Figure at 0x7fd304cd1978>"
      ]
     },
     "metadata": {},
     "output_type": "display_data"
    }
   ],
   "source": [
    "%matplotlib inline\n",
    "import matplotlib.pyplot as plt\n",
    "import random\n",
    "\n",
    "def label_to_char(one_hot):\n",
    "    return \"ABCDEFGHIJ\"[one_hot]\n",
    "\n",
    "n = 16\n",
    "rows = 2\n",
    "for i in range(1,1+n):\n",
    "    image_to_show = random.randint(0,len(train_dataset))\n",
    "    plt.subplot(rows,n/rows,i)\n",
    "    plt.imshow(train_dataset[image_to_show], cmap=\"gray\")\n",
    "    plt.title(label_to_char(train_labels[image_to_show]))\n"
   ]
  },
  {
   "cell_type": "markdown",
   "metadata": {},
   "source": [
    "## Helper Functions"
   ]
  },
  {
   "cell_type": "code",
   "execution_count": 3,
   "metadata": {
    "collapsed": true
   },
   "outputs": [],
   "source": [
    "image_size = 28\n",
    "num_labels = 10\n",
    "\n",
    "# Convert 2 to [0, 0, 1, 0, 0, 0, 0, 0, 0, 0]\n",
    "def to_one_hot(labels):\n",
    "    return (np.arange(num_labels) == labels[:,None]).astype(np.float32)\n",
    "\n",
    "def from_one_hot(labels):\n",
    "    return np.argmax(labels,1)\n",
    "\n",
    "def reformat(dataset, labels):\n",
    "  dataset = dataset.reshape((-1, image_size * image_size)).astype(np.float32)\n",
    "  labels = to_one_hot(labels)\n",
    "  return dataset, labels\n",
    "\n",
    "def print_row(cols, max_length=20):\n",
    "    col_width = max_length\n",
    "    print(\"\".join(str(word).ljust(col_width) for word in cols))"
   ]
  },
  {
   "cell_type": "markdown",
   "metadata": {},
   "source": [
    "## Simple classification pipeline"
   ]
  },
  {
   "cell_type": "code",
   "execution_count": 4,
   "metadata": {
    "collapsed": true
   },
   "outputs": [],
   "source": [
    "import numpy as np\n",
    "\n",
    "def accuracy(predictions, labels):\n",
    "    return (np.sum(np.array(predictions) == np.array(labels))\n",
    "          / len(predictions))\n",
    "\n",
    "def evaluate_classifier(classifier):  \n",
    "    # Train\n",
    "    classifier.fit(train_dataset, train_labels)\n",
    "    \n",
    "    # Evaluate\n",
    "    predictions = classifier.predict(test_dataset)\n",
    "\n",
    "    print(\"Test accuracy: %s\" % accuracy(predictions, test_labels))\n",
    "  \n",
    "\n"
   ]
  },
  {
   "cell_type": "markdown",
   "metadata": {},
   "source": [
    "## Our first classifier\n",
    "\n",
    "Our first classifier tries to guess the class of the input by selecting a class randomly. His accuracy is called the random baseline. If you train your real model, you need to have a better accuracy."
   ]
  },
  {
   "cell_type": "code",
   "execution_count": 5,
   "metadata": {
    "collapsed": true
   },
   "outputs": [],
   "source": [
    "class RandomClassifier:\n",
    "    import random\n",
    "    \n",
    "    def fit(self, train_dataset, train_labels):\n",
    "        pass\n",
    "    \n",
    "    def predict(self, data):\n",
    "        return [random.randint(0,9) for i in data]"
   ]
  },
  {
   "cell_type": "code",
   "execution_count": 6,
   "metadata": {},
   "outputs": [
    {
     "name": "stdout",
     "output_type": "stream",
     "text": [
      "Test accuracy: 0.102\n"
     ]
    }
   ],
   "source": [
    "evaluate_classifier(RandomClassifier())"
   ]
  },
  {
   "cell_type": "markdown",
   "metadata": {},
   "source": [
    "## Hands-On: Logistic Regression\n",
    "\n",
    "Now it's time to create your first real classifier. We are going to train the linear model you saw previously. To train the model you could use the same optimizer as in the first excercise. \n",
    "\n",
    "The linear model looks like this:\n",
    "\n",
    "$$Wx + b = y$$\n",
    "\n",
    "where\n",
    "$W$ is a matrix of weights,\n",
    "$x$ is the input vector\n",
    "and $b$ is a vector of biases. The result $y$ are the logits.\n",
    "\n",
    "As target for the optimizer you can use the predefined function `tf.nn.softmax_cross_entropy_with_logits` combinded with `tf.reduce_mean`.\n",
    "\n",
    "**Hints**:\n",
    "\n",
    "You can use the following functions:\n",
    "\n",
    "    tf.matmul\n",
    "    tf.nn.softmax\n",
    "    tf.nn.softmax_cross_entropy_with_logits\n",
    "    tf.reduce_mean\n"
   ]
  },
  {
   "cell_type": "code",
   "execution_count": 7,
   "metadata": {
    "collapsed": true
   },
   "outputs": [],
   "source": [
    "import tensorflow as tf\n",
    "\n",
    "class TensorLogisticRegression:\n",
    "    def __init__(self):\n",
    "        self.num_training_steps = 1000\n",
    "       \n",
    "    def fit(self, train_dataset, train_labels):\n",
    "        train_dataset, train_labels = reformat(train_dataset, train_labels)\n",
    "\n",
    "        # Hands-On: Build Linear Model\n",
    "\n",
    "        with tf.Session() as session:\n",
    "            tf.global_variables_initializer().run()\n",
    "            for step in range(self.num_training_steps):\n",
    "               # train linear model\n",
    "                pass\n",
    "\n",
    "            # store trained model as instance variable\n",
    "\n",
    "    def predict(self, testdata):\n",
    "        testdata,_ = reformat(testdata, np.arange(10))\n",
    "        \n",
    "        # re-build model from instance variables\n",
    "            \n",
    "        with tf.Session() as session:\n",
    "            tf.global_variables_initializer().run()\n",
    "            \n",
    "            # run model on test data\n",
    "            return [0 for i in testdata]\n"
   ]
  },
  {
   "cell_type": "code",
   "execution_count": 8,
   "metadata": {},
   "outputs": [
    {
     "name": "stdout",
     "output_type": "stream",
     "text": [
      "Test accuracy: 0.107\n"
     ]
    }
   ],
   "source": [
    "evaluate_classifier(TensorLogisticRegression())"
   ]
  }
 ],
 "metadata": {
  "kernelspec": {
   "display_name": "Python 3",
   "language": "python",
   "name": "python3"
  },
  "language_info": {
   "codemirror_mode": {
    "name": "ipython",
    "version": 3
   },
   "file_extension": ".py",
   "mimetype": "text/x-python",
   "name": "python",
   "nbconvert_exporter": "python",
   "pygments_lexer": "ipython3",
   "version": "3.5.2"
  }
 },
 "nbformat": 4,
 "nbformat_minor": 2
}
