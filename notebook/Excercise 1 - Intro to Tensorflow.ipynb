{
 "cells": [
  {
   "cell_type": "markdown",
   "metadata": {},
   "source": [
    "# Exercise 1\n",
    "\n",
    "In this first exercise you learn the TensorFlow basics.\n"
   ]
  },
  {
   "cell_type": "markdown",
   "metadata": {},
   "source": [
    "## Basic Example\n",
    "\n",
    "The following example shows a simple vector addition, executed using TensorFlow.\n"
   ]
  },
  {
   "cell_type": "code",
   "execution_count": 1,
   "metadata": {},
   "outputs": [
    {
     "name": "stdout",
     "output_type": "stream",
     "text": [
      "[array([ 2,  4,  6,  8, 10])]\n"
     ]
    }
   ],
   "source": [
    "import numpy as np\n",
    "import tensorflow as tf\n",
    "\n",
    "A = tf.constant(np.array([1,2,3,4,5]))\n",
    "B = tf.constant(np.array([1,2,3,4,5]))\n",
    "R = A + B\n",
    "    \n",
    "with tf.Session() as session:\n",
    "    tf.global_variables_initializer().run()\n",
    "    res = session.run([R])\n",
    "    print(res)"
   ]
  },
  {
   "cell_type": "markdown",
   "metadata": {},
   "source": [
    "## Hands-On: Learn a Variable\n",
    "\n",
    "In the previous example we executed a constant Tensor Graph. But TensorFlow is capable of much more than that. In this exercise, we are going to learn a variable $b$ so that: $a + b = 20$ given $a=12$\n",
    "\n",
    "*Hint*: \n",
    "\n",
    "To be able to achieve this you will need to define a target function, which an optimizer can use to adapt your variable. You can use `tf.train.GradientDescentOptimizer`. Have a look at the tensorflow documentation for more information: http://tensorflow.org"
   ]
  },
  {
   "cell_type": "code",
   "execution_count": 2,
   "metadata": {},
   "outputs": [],
   "source": [
    "target_value = tf.constant(20.0)\n",
    "\n",
    "a = tf.constant(12.0)\n",
    "b = tf.Variable(1.0)\n",
    "\n",
    "with tf.Session() as sess:\n",
    "    tf.global_variables_initializer().run()\n",
    "    \n",
    "    # Train the variable\n"
   ]
  }
 ],
 "metadata": {
  "kernelspec": {
   "display_name": "Python 3",
   "language": "python",
   "name": "python3"
  },
  "language_info": {
   "codemirror_mode": {
    "name": "ipython",
    "version": 3
   },
   "file_extension": ".py",
   "mimetype": "text/x-python",
   "name": "python",
   "nbconvert_exporter": "python",
   "pygments_lexer": "ipython3",
   "version": "3.5.2"
  }
 },
 "nbformat": 4,
 "nbformat_minor": 2
}
